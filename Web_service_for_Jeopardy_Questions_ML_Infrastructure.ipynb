{
  "nbformat": 4,
  "nbformat_minor": 0,
  "metadata": {
    "colab": {
      "name": "Web service for Jeopardy Questions - ML Infrastructure.ipynb",
      "provenance": []
    },
    "kernelspec": {
      "name": "python3",
      "display_name": "Python 3"
    }
  },
  "cells": [
    {
      "cell_type": "code",
      "metadata": {
        "id": "deCNECdmFF1D"
      },
      "source": [
        "!pip install flask-ngrok\n",
        "!pip install spacy\n",
        "!pip install --user spacy-transformers\n",
        "!pip install annoy\n",
        "!python -m spacy download en_trf_distilbertbaseuncased_lg\n",
        "!unzip JEOPARDY_CSV.zip"
      ],
      "execution_count": null,
      "outputs": []
    },
    {
      "cell_type": "code",
      "metadata": {
        "colab": {
          "base_uri": "https://localhost:8080/"
        },
        "id": "zidOIPtMXl9O",
        "outputId": "b5097e3b-0521-4e4a-eed3-1a1103dbfc2f"
      },
      "source": [
        "import spacy, csv, re, tqdm, time\n",
        "from annoy import AnnoyIndex\n",
        "\n",
        "\n",
        "def get_nearest_texts(query, index, dataset, n_neighbours=10):\n",
        "    result = set(index.get_nns_by_vector(nlp(q).vector, n_neighbours))\n",
        "    return [dataset[r] for r in result]\n",
        "\n",
        "\n",
        "def build_index():\n",
        "  nlp = spacy.load(\"en_trf_distilbertbaseuncased_lg\")\n",
        "  tag_cleaner = re.compile('<.*?>')\n",
        "  dataset, vectors = [], []\n",
        "  SHARD_SIZE = 1000\n",
        "\n",
        "  with open('/content/JEOPARDY_CSV.csv', encoding='utf8') as csvfile:\n",
        "      reader = csv.DictReader(csvfile)\n",
        "      for row in reader:\n",
        "          content = (re.sub(tag_cleaner, '',  row['Question']),  re.sub(tag_cleaner, '',  row['Answer']))\n",
        "          dataset.append(content) \n",
        "\n",
        "  for i, content in enumerate(tqdm.tqdm(dataset[:SHARD_SIZE])):\n",
        "      keys = nlp(content[0]).vector, nlp(content[1]).vector\n",
        "      vectors.append((keys[0], i))\n",
        "      vectors.append((keys[1], i))\n",
        "\n",
        "  return vectors, dataset\n",
        "\n",
        "\n",
        "def get_answers(q, n, vectors, dataset):\n",
        "  n_dimensions = len(vectors[0][0])\n",
        "  n_trees = 50\n",
        "  n_neighbours = 10\n",
        "\n",
        "  index = AnnoyIndex(n_dimensions, 'angular')\n",
        "  for vec, val in vectors:\n",
        "      index.add_item(val, vec)\n",
        "      \n",
        "  index.build(n_trees)\n",
        "  result = get_nearest_texts(q, index, dataset, n_neighbours=n)\n",
        "  return result\n",
        "\n",
        "vectors, dataset = build_index()"
      ],
      "execution_count": null,
      "outputs": [
        {
          "output_type": "stream",
          "text": [
            "100%|██████████| 1000/1000 [01:46<00:00,  9.43it/s]\n"
          ],
          "name": "stderr"
        }
      ]
    },
    {
      "cell_type": "code",
      "metadata": {
        "id": "9ld_mVnjGnCh"
      },
      "source": [
        "from flask_ngrok import run_with_ngrok\n",
        "from flask import Flask, render_template, request\n",
        "from flask import Flask\n",
        "import requests\n",
        "\n",
        "\n",
        "app = Flask(__name__, template_folder='/content/templates')\n",
        "run_with_ngrok(app)   #starts ngrok when the app is run\n",
        "\n",
        "\n",
        "@app.route('/', methods=['GET', 'POST'])\n",
        "def index():\n",
        "  errors = []\n",
        "  results = {}\n",
        "  if request.method == \"POST\":\n",
        "    # get url that the user has entered\n",
        "    try:\n",
        "      query = request.form['url']\n",
        "      q, n = query.split(',')\n",
        "      results = get_answers(q, int(n), vectors, dataset)\n",
        "      # r = requests.get(url)\n",
        "    except:\n",
        "      errors.append(\"Please enter a valid query in format: \" + 'Query, n_qs')\n",
        "  return render_template('index.html', errors=errors, results=results)\n",
        "  \n",
        "app.run()"
      ],
      "execution_count": null,
      "outputs": []
    }
  ]
}